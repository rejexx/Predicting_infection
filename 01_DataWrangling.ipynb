{
 "cells": [
  {
   "cell_type": "markdown",
   "id": "operational-parker",
   "metadata": {},
   "source": [
    "# Predicing Healthcare related infections\n",
    "### Capstone 2\n",
    "\n",
    "Data collection, wrangling, joining, initial checks\n"
   ]
  },
  {
   "cell_type": "code",
   "execution_count": 6,
   "id": "latin-collector",
   "metadata": {},
   "outputs": [],
   "source": [
    "#Imports\n",
    "import pandas as pd\n",
    "import numpy as np\n",
    "from pandas_profiling import ProfileReport"
   ]
  },
  {
   "cell_type": "markdown",
   "id": "warming-henry",
   "metadata": {},
   "source": [
    "#### Significance:\n",
    "\n",
    "\"At any given time, about 1 in 25 inpatients have an infection related to hospital care. These infections lead to tens of thousands of deaths and cost the U.S. health care system billions of dollars each year.\" - https://health.gov/our-work/health-care-quality/health-care-associated-infections\n",
    "\n",
    "Additional resources\n",
    "    - overview of HAI https://www.healthypeople.gov/2020/topics-objectives/topic/healthcare-associated-infections"
   ]
  },
  {
   "cell_type": "markdown",
   "id": "invalid-rebecca",
   "metadata": {},
   "source": [
    "#### Data summary\n",
    "**Healthcare Associated Infections (HAIs)** (https://data.cms.gov/provider-data/dataset/77hc-ibv8)\n",
    "<br> - How often patients get an infections while in the hopsital. This measure is categorized into several different types and means of infections (related to equipment, procedures, or location of infection).  It is also compared to a national benchmark for that type of hospital, and normalized based to some degree based on things like how many beds at the hospital, lab methods used, affilition with a medical school, patient age and some others. Top priority HAIs are central line-associated bloodstream infections (CLABSI) and methicillin-resistant Staphylococcus aureus (MRSA) infections.\n",
    "\n",
    "**Patient survey (HCAHPS)** (https://data.cms.gov/provider-data/topics/hospitals/hcahps#hcahps-star-ratings) \n",
    "<br> - this survey is administered to patients at random (not just medicare patients).  This has 19 questions about the hospital + 10 other demographic and screening questions. (details on questions here: https://data.cms.gov/provider-data/topics/hospitals/hcahps#about-the-hcahps-survey) \n",
    "\n",
    "**Star rating (from HCAHPS survey results)** \n",
    "<br> - Star rating summarizes the patient survey responses by category, and is rolled into a single 'summary star' rating per facility. (details here: https://data.cms.gov/provider-data/topics/hospitals/hcahps#hcahps-star-ratings)\n",
    "\n",
    "**Timely and Effective Care** (https://data.cms.gov/provider-data/dataset/yv7e-xc69)\n",
    "<br> - Includes several measures about specific topics, each topic is given a rating based off what has been shown to be best practice or most important with that procedure.  Data are collected from records of medicare and non-medicare patients. Measures include:  cataract surgery outcome, colonoscopy follow-up, heart attack care, emergency department care, preventive care, pregnancy and delivery care, and cancer care.  Each category has different measures (percentage, number of minutes, etc...) **Most relevant measures here is sepsis - \"percentage of patients with severe sepsis or septic shock for which a hospital provides appropriate care\".**. (more details about the data: https://data.cms.gov/provider-data/topics/hospitals/timely-effective-care)\n",
    "\n",
    "**Related data** (https://data.cms.gov/provider-data/dataset/yv7e-xc69)\n",
    "<br> - In case that wasn't enough links, here's one more. Other datasets included in comparing hospitals that have not been used in this study. "
   ]
  },
  {
   "cell_type": "markdown",
   "id": "corresponding-arlington",
   "metadata": {},
   "source": [
    "## Initial imports"
   ]
  },
  {
   "cell_type": "code",
   "execution_count": 13,
   "id": "trying-february",
   "metadata": {},
   "outputs": [],
   "source": [
    "#Initial load of files (stored locally, downloaded 2/8/2021)\n",
    "HAI_raw = pd.read_csv('.\\data\\Healthcare_Associated_infections_-_Hospital.csv', na_values=\"Not Available\")\n",
    "\n",
    "display(HAI_raw.shape)\n",
    "display(HAI_raw.sort_values(by=\"Facility ID\").head(2))"
   ]
  },
  {
   "cell_type": "code",
   "execution_count": 24,
   "id": "spoken-cathedral",
   "metadata": {},
   "outputs": [
    {
     "data": {
      "text/plain": [
       "(454026, 22)"
      ]
     },
     "metadata": {},
     "output_type": "display_data"
    },
    {
     "data": {
      "text/html": [
       "<div>\n",
       "<style scoped>\n",
       "    .dataframe tbody tr th:only-of-type {\n",
       "        vertical-align: middle;\n",
       "    }\n",
       "\n",
       "    .dataframe tbody tr th {\n",
       "        vertical-align: top;\n",
       "    }\n",
       "\n",
       "    .dataframe thead th {\n",
       "        text-align: right;\n",
       "    }\n",
       "</style>\n",
       "<table border=\"1\" class=\"dataframe\">\n",
       "  <thead>\n",
       "    <tr style=\"text-align: right;\">\n",
       "      <th></th>\n",
       "      <th>Facility ID</th>\n",
       "      <th>Facility Name</th>\n",
       "      <th>Address</th>\n",
       "      <th>City</th>\n",
       "      <th>State</th>\n",
       "      <th>ZIP Code</th>\n",
       "      <th>County Name</th>\n",
       "      <th>Phone Number</th>\n",
       "      <th>HCAHPS Measure ID</th>\n",
       "      <th>HCAHPS Question</th>\n",
       "      <th>...</th>\n",
       "      <th>Patient Survey Star Rating Footnote</th>\n",
       "      <th>HCAHPS Answer Percent</th>\n",
       "      <th>HCAHPS Answer Percent Footnote</th>\n",
       "      <th>HCAHPS Linear Mean Value</th>\n",
       "      <th>Number of Completed Surveys</th>\n",
       "      <th>Number of Completed Surveys Footnote</th>\n",
       "      <th>Survey Response Rate Percent</th>\n",
       "      <th>Survey Response Rate Percent Footnote</th>\n",
       "      <th>Start Date</th>\n",
       "      <th>End Date</th>\n",
       "    </tr>\n",
       "  </thead>\n",
       "  <tbody>\n",
       "    <tr>\n",
       "      <th>0</th>\n",
       "      <td>010001</td>\n",
       "      <td>SOUTHEAST ALABAMA MEDICAL CENTER</td>\n",
       "      <td>1108 ROSS CLARK CIRCLE</td>\n",
       "      <td>DOTHAN</td>\n",
       "      <td>AL</td>\n",
       "      <td>36301</td>\n",
       "      <td>HOUSTON</td>\n",
       "      <td>(334) 793-8701</td>\n",
       "      <td>H_COMP_1_A_P</td>\n",
       "      <td>Patients who reported that their nurses \"Alway...</td>\n",
       "      <td>...</td>\n",
       "      <td>NaN</td>\n",
       "      <td>77</td>\n",
       "      <td>NaN</td>\n",
       "      <td>Not Applicable</td>\n",
       "      <td>507.0</td>\n",
       "      <td>NaN</td>\n",
       "      <td>21.0</td>\n",
       "      <td>NaN</td>\n",
       "      <td>01/01/2019</td>\n",
       "      <td>12/31/2019</td>\n",
       "    </tr>\n",
       "    <tr>\n",
       "      <th>67</th>\n",
       "      <td>010001</td>\n",
       "      <td>SOUTHEAST ALABAMA MEDICAL CENTER</td>\n",
       "      <td>1108 ROSS CLARK CIRCLE</td>\n",
       "      <td>DOTHAN</td>\n",
       "      <td>AL</td>\n",
       "      <td>36301</td>\n",
       "      <td>HOUSTON</td>\n",
       "      <td>(334) 793-8701</td>\n",
       "      <td>H_CT_UNDER_D_SD</td>\n",
       "      <td>Patients who \"Disagree\" or \"Strongly Disagree\"...</td>\n",
       "      <td>...</td>\n",
       "      <td>NaN</td>\n",
       "      <td>6</td>\n",
       "      <td>NaN</td>\n",
       "      <td>Not Applicable</td>\n",
       "      <td>507.0</td>\n",
       "      <td>NaN</td>\n",
       "      <td>21.0</td>\n",
       "      <td>NaN</td>\n",
       "      <td>01/01/2019</td>\n",
       "      <td>12/31/2019</td>\n",
       "    </tr>\n",
       "  </tbody>\n",
       "</table>\n",
       "<p>2 rows × 22 columns</p>\n",
       "</div>"
      ],
      "text/plain": [
       "   Facility ID                     Facility Name                 Address  \\\n",
       "0       010001  SOUTHEAST ALABAMA MEDICAL CENTER  1108 ROSS CLARK CIRCLE   \n",
       "67      010001  SOUTHEAST ALABAMA MEDICAL CENTER  1108 ROSS CLARK CIRCLE   \n",
       "\n",
       "      City State  ZIP Code County Name    Phone Number HCAHPS Measure ID  \\\n",
       "0   DOTHAN    AL     36301     HOUSTON  (334) 793-8701      H_COMP_1_A_P   \n",
       "67  DOTHAN    AL     36301     HOUSTON  (334) 793-8701   H_CT_UNDER_D_SD   \n",
       "\n",
       "                                      HCAHPS Question  ...  \\\n",
       "0   Patients who reported that their nurses \"Alway...  ...   \n",
       "67  Patients who \"Disagree\" or \"Strongly Disagree\"...  ...   \n",
       "\n",
       "   Patient Survey Star Rating Footnote HCAHPS Answer Percent  \\\n",
       "0                                  NaN                    77   \n",
       "67                                 NaN                     6   \n",
       "\n",
       "   HCAHPS Answer Percent Footnote HCAHPS Linear Mean Value  \\\n",
       "0                             NaN           Not Applicable   \n",
       "67                            NaN           Not Applicable   \n",
       "\n",
       "   Number of Completed Surveys Number of Completed Surveys Footnote  \\\n",
       "0                        507.0                                  NaN   \n",
       "67                       507.0                                  NaN   \n",
       "\n",
       "    Survey Response Rate Percent Survey Response Rate Percent Footnote  \\\n",
       "0                           21.0                                   NaN   \n",
       "67                          21.0                                   NaN   \n",
       "\n",
       "    Start Date    End Date  \n",
       "0   01/01/2019  12/31/2019  \n",
       "67  01/01/2019  12/31/2019  \n",
       "\n",
       "[2 rows x 22 columns]"
      ]
     },
     "metadata": {},
     "output_type": "display_data"
    }
   ],
   "source": [
    "survey_raw = pd.read_csv('.\\data\\HCAHPS-Hospital.csv', na_values=\"Not Available\", dtype={12:object, 14:object, 17:object, 19:object},  parse_dates=True, infer_datetime_format=True)\n",
    "display(survey_raw.shape)\n",
    "display(survey_raw.sort_values(by=\"Facility ID\").head(2))"
   ]
  },
  {
   "cell_type": "code",
   "execution_count": 23,
   "id": "featured-mountain",
   "metadata": {},
   "outputs": [
    {
     "data": {
      "text/plain": [
       "(80665, 16)"
      ]
     },
     "metadata": {},
     "output_type": "display_data"
    },
    {
     "data": {
      "text/html": [
       "<div>\n",
       "<style scoped>\n",
       "    .dataframe tbody tr th:only-of-type {\n",
       "        vertical-align: middle;\n",
       "    }\n",
       "\n",
       "    .dataframe tbody tr th {\n",
       "        vertical-align: top;\n",
       "    }\n",
       "\n",
       "    .dataframe thead th {\n",
       "        text-align: right;\n",
       "    }\n",
       "</style>\n",
       "<table border=\"1\" class=\"dataframe\">\n",
       "  <thead>\n",
       "    <tr style=\"text-align: right;\">\n",
       "      <th></th>\n",
       "      <th>Facility ID</th>\n",
       "      <th>Facility Name</th>\n",
       "      <th>Address</th>\n",
       "      <th>City</th>\n",
       "      <th>State</th>\n",
       "      <th>ZIP Code</th>\n",
       "      <th>County Name</th>\n",
       "      <th>Phone Number</th>\n",
       "      <th>Condition</th>\n",
       "      <th>Measure ID</th>\n",
       "      <th>Measure Name</th>\n",
       "      <th>Score</th>\n",
       "      <th>Sample</th>\n",
       "      <th>Footnote</th>\n",
       "      <th>Start Date</th>\n",
       "      <th>End Date</th>\n",
       "    </tr>\n",
       "  </thead>\n",
       "  <tbody>\n",
       "    <tr>\n",
       "      <th>0</th>\n",
       "      <td>010001</td>\n",
       "      <td>SOUTHEAST ALABAMA MEDICAL CENTER</td>\n",
       "      <td>1108 ROSS CLARK CIRCLE</td>\n",
       "      <td>DOTHAN</td>\n",
       "      <td>AL</td>\n",
       "      <td>36301</td>\n",
       "      <td>HOUSTON</td>\n",
       "      <td>(334) 793-8701</td>\n",
       "      <td>Emergency Department</td>\n",
       "      <td>EDV</td>\n",
       "      <td>Emergency department volume</td>\n",
       "      <td>high</td>\n",
       "      <td>NaN</td>\n",
       "      <td>NaN</td>\n",
       "      <td>01/01/2019</td>\n",
       "      <td>12/31/2019</td>\n",
       "    </tr>\n",
       "    <tr>\n",
       "      <th>16</th>\n",
       "      <td>010001</td>\n",
       "      <td>SOUTHEAST ALABAMA MEDICAL CENTER</td>\n",
       "      <td>1108 ROSS CLARK CIRCLE</td>\n",
       "      <td>DOTHAN</td>\n",
       "      <td>AL</td>\n",
       "      <td>36301</td>\n",
       "      <td>HOUSTON</td>\n",
       "      <td>(334) 793-8701</td>\n",
       "      <td>Sepsis Care</td>\n",
       "      <td>SEV_SEP_6HR</td>\n",
       "      <td>Severe Sepsis 6-Hour Bundle</td>\n",
       "      <td>92</td>\n",
       "      <td>63.0</td>\n",
       "      <td>2</td>\n",
       "      <td>01/01/2019</td>\n",
       "      <td>12/31/2019</td>\n",
       "    </tr>\n",
       "  </tbody>\n",
       "</table>\n",
       "</div>"
      ],
      "text/plain": [
       "   Facility ID                     Facility Name                 Address  \\\n",
       "0       010001  SOUTHEAST ALABAMA MEDICAL CENTER  1108 ROSS CLARK CIRCLE   \n",
       "16      010001  SOUTHEAST ALABAMA MEDICAL CENTER  1108 ROSS CLARK CIRCLE   \n",
       "\n",
       "      City State  ZIP Code County Name    Phone Number             Condition  \\\n",
       "0   DOTHAN    AL     36301     HOUSTON  (334) 793-8701  Emergency Department   \n",
       "16  DOTHAN    AL     36301     HOUSTON  (334) 793-8701           Sepsis Care   \n",
       "\n",
       "     Measure ID                 Measure Name Score  Sample Footnote  \\\n",
       "0           EDV  Emergency department volume  high     NaN      NaN   \n",
       "16  SEV_SEP_6HR  Severe Sepsis 6-Hour Bundle    92    63.0        2   \n",
       "\n",
       "    Start Date    End Date  \n",
       "0   01/01/2019  12/31/2019  \n",
       "16  01/01/2019  12/31/2019  "
      ]
     },
     "metadata": {},
     "output_type": "display_data"
    }
   ],
   "source": [
    "care_raw = pd.read_csv('.\\data\\Timely_and_Effective_Care-Hospital.csv', na_values=\"Not Available\", parse_dates=True, infer_datetime_format=True)\n",
    "display(care_raw.shape)\n",
    "display(care_raw.sort_values(by=\"Facility ID\").head(2))"
   ]
  },
  {
   "cell_type": "markdown",
   "id": "south-forward",
   "metadata": {},
   "source": [
    "We now have the following imported as dataframes\n",
    "\n",
    " * HAI_raw\n",
    " * survey_raw\n",
    " * care_raw"
   ]
  },
  {
   "cell_type": "markdown",
   "id": "understood-limitation",
   "metadata": {},
   "source": [
    "## File QA"
   ]
  },
  {
   "cell_type": "code",
   "execution_count": 28,
   "id": "passing-fountain",
   "metadata": {},
   "outputs": [
    {
     "data": {
      "application/vnd.jupyter.widget-view+json": {
       "model_id": "fe92bc9da79b49e29447753e7926c21f",
       "version_major": 2,
       "version_minor": 0
      },
      "text/plain": [
       "Summarize dataset:   0%|          | 0/30 [00:00<?, ?it/s]"
      ]
     },
     "metadata": {},
     "output_type": "display_data"
    },
    {
     "data": {
      "application/vnd.jupyter.widget-view+json": {
       "model_id": "b628d69a5d9d4f0bb6a827d8df7a228d",
       "version_major": 2,
       "version_minor": 0
      },
      "text/plain": [
       "Generate report structure:   0%|          | 0/1 [00:00<?, ?it/s]"
      ]
     },
     "metadata": {},
     "output_type": "display_data"
    },
    {
     "data": {
      "application/vnd.jupyter.widget-view+json": {
       "model_id": "",
       "version_major": 2,
       "version_minor": 0
      },
      "text/plain": [
       "Render widgets:   0%|          | 0/1 [00:00<?, ?it/s]"
      ]
     },
     "metadata": {},
     "output_type": "display_data"
    },
    {
     "data": {
      "application/vnd.jupyter.widget-view+json": {
       "model_id": "83686f93a248465c8b65f28e1e78152d",
       "version_major": 2,
       "version_minor": 0
      },
      "text/plain": [
       "VBox(children=(Tab(children=(Tab(children=(GridBox(children=(VBox(children=(GridspecLayout(children=(HTML(valu…"
      ]
     },
     "metadata": {},
     "output_type": "display_data"
    }
   ],
   "source": [
    "profile_HAI = ProfileReport(HAI_raw, title=\"Infections risk table Pandas Profiling Report\")\n",
    "profile_HAI.to_widgets()"
   ]
  },
  {
   "cell_type": "code",
   "execution_count": 29,
   "id": "divided-terminal",
   "metadata": {},
   "outputs": [
    {
     "data": {
      "application/vnd.jupyter.widget-view+json": {
       "model_id": "be7ec71c833643e59ac5e59b3d212e54",
       "version_major": 2,
       "version_minor": 0
      },
      "text/plain": [
       "Summarize dataset:   0%|          | 0/36 [00:00<?, ?it/s]"
      ]
     },
     "metadata": {},
     "output_type": "display_data"
    },
    {
     "name": "stderr",
     "output_type": "stream",
     "text": [
      "C:\\ProgramData\\Anaconda3\\lib\\site-packages\\pandas_profiling\\model\\correlations.py:107: UserWarning: There was an attempt to calculate the cramers correlation, but this failed.\n",
      "To hide this warning, disable the calculation\n",
      "(using `df.profile_report(correlations={\"cramers\": {\"calculate\": False}})`\n",
      "If this is problematic for your use case, please report this as an issue:\n",
      "https://github.com/pandas-profiling/pandas-profiling/issues\n",
      "(include the error message: 'No data; `observed` has size 0.')\n",
      "  (include the error message: '{error}')\"\"\"\n"
     ]
    },
    {
     "data": {
      "application/vnd.jupyter.widget-view+json": {
       "model_id": "ce33f4151160402ea4fca6f4adddb791",
       "version_major": 2,
       "version_minor": 0
      },
      "text/plain": [
       "Generate report structure:   0%|          | 0/1 [00:00<?, ?it/s]"
      ]
     },
     "metadata": {},
     "output_type": "display_data"
    },
    {
     "data": {
      "application/vnd.jupyter.widget-view+json": {
       "model_id": "",
       "version_major": 2,
       "version_minor": 0
      },
      "text/plain": [
       "Render widgets:   0%|          | 0/1 [00:00<?, ?it/s]"
      ]
     },
     "metadata": {},
     "output_type": "display_data"
    },
    {
     "data": {
      "application/vnd.jupyter.widget-view+json": {
       "model_id": "1f128936e31841f4a65b36cb6e36ba82",
       "version_major": 2,
       "version_minor": 0
      },
      "text/plain": [
       "VBox(children=(Tab(children=(Tab(children=(GridBox(children=(VBox(children=(GridspecLayout(children=(HTML(valu…"
      ]
     },
     "metadata": {},
     "output_type": "display_data"
    }
   ],
   "source": [
    "profile_survey = ProfileReport(survey_raw, title=\"Survey data Pandas Profiling Report\")\n",
    "profile_survey.to_widgets()"
   ]
  },
  {
   "cell_type": "code",
   "execution_count": 30,
   "id": "alike-midwest",
   "metadata": {},
   "outputs": [
    {
     "data": {
      "application/vnd.jupyter.widget-view+json": {
       "model_id": "cb856576787a4a6cb34c5620f2861317",
       "version_major": 2,
       "version_minor": 0
      },
      "text/plain": [
       "Summarize dataset:   0%|          | 0/30 [00:00<?, ?it/s]"
      ]
     },
     "metadata": {},
     "output_type": "display_data"
    },
    {
     "data": {
      "application/vnd.jupyter.widget-view+json": {
       "model_id": "e750162519bf444fa418895ac91f467d",
       "version_major": 2,
       "version_minor": 0
      },
      "text/plain": [
       "Generate report structure:   0%|          | 0/1 [00:00<?, ?it/s]"
      ]
     },
     "metadata": {},
     "output_type": "display_data"
    },
    {
     "data": {
      "application/vnd.jupyter.widget-view+json": {
       "model_id": "",
       "version_major": 2,
       "version_minor": 0
      },
      "text/plain": [
       "Render widgets:   0%|          | 0/1 [00:00<?, ?it/s]"
      ]
     },
     "metadata": {},
     "output_type": "display_data"
    },
    {
     "data": {
      "application/vnd.jupyter.widget-view+json": {
       "model_id": "632822d534f541719ddcb09deb4f5be8",
       "version_major": 2,
       "version_minor": 0
      },
      "text/plain": [
       "VBox(children=(Tab(children=(Tab(children=(GridBox(children=(VBox(children=(GridspecLayout(children=(HTML(valu…"
      ]
     },
     "metadata": {},
     "output_type": "display_data"
    }
   ],
   "source": [
    "profile_care = ProfileReport(care_raw, title=\"Timley and effective care table Pandas Profiling Report\")\n",
    "profile_care.to_widgets()"
   ]
  },
  {
   "cell_type": "markdown",
   "id": "sitting-testing",
   "metadata": {},
   "source": [
    "### Summary from pandas-profiling\n",
    "**HAI (Hospital associated infections)**\n",
    "* Constant start and end date (1/1/2019 - 12/31/2019)\n",
    "* Score and \"compared to national\" (key columns for prediction) are missing from >40% and 60% of the rows\n",
    "* There are 6 types of infections (HAIs) each with 6 metrics, for a total of 6x6=36 unique measures that need moved to columns\n",
    "\n",
    "**Survey**\n",
    "* Constant start and end date (1/1/2019 - 12/31/2019)\n",
    "* 93 distict questions\n",
    "\n",
    "**Care**\n",
    "* Start and end date are MOSTLY the same with a few outliers from other quarters.\n",
    "* Score is missing in 53% of rows\n",
    "* one of the conditions is \"sepsis care\", which likley has a high correlation with infections since sepsis is caused by infections.\n",
    "    "
   ]
  },
  {
   "cell_type": "markdown",
   "id": "biological-reflection",
   "metadata": {},
   "source": [
    "## Reshape files "
   ]
  },
  {
   "cell_type": "markdown",
   "id": "accredited-azerbaijan",
   "metadata": {},
   "source": [
    "Files need formatted as 1 row per facility.  Resulting files will be wider instead of longer to prep for joining by Facility ID"
   ]
  },
  {
   "cell_type": "code",
   "execution_count": null,
   "id": "exterior-macro",
   "metadata": {},
   "outputs": [],
   "source": [
    "#First reshape the HAI table\n",
    "#Take the 36 unique measures_IDs and convert to columns showing the score.  \n",
    "\n",
    "#Add a singe columns per location (6)  for compared to national average\n",
    "\n",
    "#How to handle footnotes??? Probably case-by-case\n",
    "\n",
    "#drop measures name, as this can be looked up with the Measure_ID, which is more concise for column names.\n",
    "#  Save a cross-reference table of Measure_ID and Measure Name for future readibilty and reference\n",
    "\n",
    "#Final table should have 36+6 new columns, and only one row per facility.  "
   ]
  },
  {
   "cell_type": "markdown",
   "id": "light-reggae",
   "metadata": {},
   "source": [
    "Check there are no duplicate Facility IDs in each file (for best join results)"
   ]
  },
  {
   "cell_type": "markdown",
   "id": "fixed-forty",
   "metadata": {},
   "source": [
    "## Join files on Facility ID"
   ]
  },
  {
   "cell_type": "markdown",
   "id": "early-behavior",
   "metadata": {},
   "source": []
  }
 ],
 "metadata": {
  "kernelspec": {
   "display_name": "Python 3",
   "language": "python",
   "name": "python3"
  },
  "language_info": {
   "codemirror_mode": {
    "name": "ipython",
    "version": 3
   },
   "file_extension": ".py",
   "mimetype": "text/x-python",
   "name": "python",
   "nbconvert_exporter": "python",
   "pygments_lexer": "ipython3",
   "version": "3.7.3"
  }
 },
 "nbformat": 4,
 "nbformat_minor": 5
}
