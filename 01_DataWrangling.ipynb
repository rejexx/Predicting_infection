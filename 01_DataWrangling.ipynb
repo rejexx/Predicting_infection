{
 "cells": [
  {
   "cell_type": "markdown",
   "id": "operational-parker",
   "metadata": {},
   "source": [
    "# Predicing Healthcare related infections\n",
    "### Capstone 2\n",
    "\n",
    "Data collection, wrangling, joining, initial checks\n"
   ]
  },
  {
   "cell_type": "code",
   "execution_count": null,
   "id": "trying-february",
   "metadata": {},
   "outputs": [],
   "source": []
  }
 ],
 "metadata": {
  "kernelspec": {
   "display_name": "Python 3",
   "language": "python",
   "name": "python3"
  },
  "language_info": {
   "codemirror_mode": {
    "name": "ipython",
    "version": 3
   },
   "file_extension": ".py",
   "mimetype": "text/x-python",
   "name": "python",
   "nbconvert_exporter": "python",
   "pygments_lexer": "ipython3",
   "version": "3.7.3"
  }
 },
 "nbformat": 4,
 "nbformat_minor": 5
}
